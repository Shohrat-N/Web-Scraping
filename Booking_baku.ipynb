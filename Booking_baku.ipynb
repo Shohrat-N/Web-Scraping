{
  "nbformat": 4,
  "nbformat_minor": 0,
  "metadata": {
    "colab": {
      "provenance": [],
      "toc_visible": true
    },
    "kernelspec": {
      "name": "python3",
      "display_name": "Python 3"
    },
    "language_info": {
      "name": "python"
    }
  },
  "cells": [
    {
      "cell_type": "markdown",
      "source": [
        "# Data Cleaning"
      ],
      "metadata": {
        "id": "8zMvv0RT8Blv"
      }
    },
    {
      "cell_type": "code",
      "source": [
        "import pandas as pd\n",
        "import numpy as np"
      ],
      "metadata": {
        "id": "LRet7Vd77614"
      },
      "execution_count": null,
      "outputs": []
    },
    {
      "cell_type": "code",
      "source": [
        "data=pd.read_csv(\"/content/item.csv\")"
      ],
      "metadata": {
        "id": "VoXtOjPW83Z-"
      },
      "execution_count": null,
      "outputs": []
    },
    {
      "cell_type": "code",
      "source": [
        "data.head()"
      ],
      "metadata": {
        "colab": {
          "base_uri": "https://localhost:8080/",
          "height": 302
        },
        "id": "CJv_-IiQ9Ngw",
        "outputId": "24525606-c0d6-46da-955a-cea37961d22b"
      },
      "execution_count": null,
      "outputs": [
        {
          "output_type": "execute_result",
          "data": {
            "text/plain": [
              "            breakfast cancelation            distance guest_reviews  \\\n",
              "0                 NaN         NaN                 NaN           NaN   \n",
              "1                 NaN         NaN                 NaN           NaN   \n",
              "2                 NaN        FREE   150 m from center     Very,Good   \n",
              "3  Breakfast included        FREE  2.3 km from center     Very,Good   \n",
              "4  Breakfast included        Free  0.7 km from center     Very,Good   \n",
              "\n",
              "         location   price review_number               title  \\\n",
              "0             NaN     NaN           NaN                 NaN   \n",
              "1             NaN     NaN           NaN                 NaN   \n",
              "2  Sabayil , Baku  AZN 50   742 reviews   Center Hotel Baku   \n",
              "3  Sabayil , Baku  AZN 35   101 reviews  Madinah Hotel Baku   \n",
              "4  Sabayil , Baku  AZN 98   253 reviews   Shirvanshah Hotel   \n",
              "\n",
              "             type_room  \n",
              "0                  NaN  \n",
              "1                  NaN  \n",
              "2  Economy Double Room  \n",
              "3          Single Room  \n",
              "4   Budget Single Room  "
            ],
            "text/html": [
              "\n",
              "  <div id=\"df-7845a587-024a-40ec-8d7a-1ef6ea1ae865\">\n",
              "    <div class=\"colab-df-container\">\n",
              "      <div>\n",
              "<style scoped>\n",
              "    .dataframe tbody tr th:only-of-type {\n",
              "        vertical-align: middle;\n",
              "    }\n",
              "\n",
              "    .dataframe tbody tr th {\n",
              "        vertical-align: top;\n",
              "    }\n",
              "\n",
              "    .dataframe thead th {\n",
              "        text-align: right;\n",
              "    }\n",
              "</style>\n",
              "<table border=\"1\" class=\"dataframe\">\n",
              "  <thead>\n",
              "    <tr style=\"text-align: right;\">\n",
              "      <th></th>\n",
              "      <th>breakfast</th>\n",
              "      <th>cancelation</th>\n",
              "      <th>distance</th>\n",
              "      <th>guest_reviews</th>\n",
              "      <th>location</th>\n",
              "      <th>price</th>\n",
              "      <th>review_number</th>\n",
              "      <th>title</th>\n",
              "      <th>type_room</th>\n",
              "    </tr>\n",
              "  </thead>\n",
              "  <tbody>\n",
              "    <tr>\n",
              "      <th>0</th>\n",
              "      <td>NaN</td>\n",
              "      <td>NaN</td>\n",
              "      <td>NaN</td>\n",
              "      <td>NaN</td>\n",
              "      <td>NaN</td>\n",
              "      <td>NaN</td>\n",
              "      <td>NaN</td>\n",
              "      <td>NaN</td>\n",
              "      <td>NaN</td>\n",
              "    </tr>\n",
              "    <tr>\n",
              "      <th>1</th>\n",
              "      <td>NaN</td>\n",
              "      <td>NaN</td>\n",
              "      <td>NaN</td>\n",
              "      <td>NaN</td>\n",
              "      <td>NaN</td>\n",
              "      <td>NaN</td>\n",
              "      <td>NaN</td>\n",
              "      <td>NaN</td>\n",
              "      <td>NaN</td>\n",
              "    </tr>\n",
              "    <tr>\n",
              "      <th>2</th>\n",
              "      <td>NaN</td>\n",
              "      <td>FREE</td>\n",
              "      <td>150 m from center</td>\n",
              "      <td>Very,Good</td>\n",
              "      <td>Sabayil , Baku</td>\n",
              "      <td>AZN 50</td>\n",
              "      <td>742 reviews</td>\n",
              "      <td>Center Hotel Baku</td>\n",
              "      <td>Economy Double Room</td>\n",
              "    </tr>\n",
              "    <tr>\n",
              "      <th>3</th>\n",
              "      <td>Breakfast included</td>\n",
              "      <td>FREE</td>\n",
              "      <td>2.3 km from center</td>\n",
              "      <td>Very,Good</td>\n",
              "      <td>Sabayil , Baku</td>\n",
              "      <td>AZN 35</td>\n",
              "      <td>101 reviews</td>\n",
              "      <td>Madinah Hotel Baku</td>\n",
              "      <td>Single Room</td>\n",
              "    </tr>\n",
              "    <tr>\n",
              "      <th>4</th>\n",
              "      <td>Breakfast included</td>\n",
              "      <td>Free</td>\n",
              "      <td>0.7 km from center</td>\n",
              "      <td>Very,Good</td>\n",
              "      <td>Sabayil , Baku</td>\n",
              "      <td>AZN 98</td>\n",
              "      <td>253 reviews</td>\n",
              "      <td>Shirvanshah Hotel</td>\n",
              "      <td>Budget Single Room</td>\n",
              "    </tr>\n",
              "  </tbody>\n",
              "</table>\n",
              "</div>\n",
              "      <button class=\"colab-df-convert\" onclick=\"convertToInteractive('df-7845a587-024a-40ec-8d7a-1ef6ea1ae865')\"\n",
              "              title=\"Convert this dataframe to an interactive table.\"\n",
              "              style=\"display:none;\">\n",
              "        \n",
              "  <svg xmlns=\"http://www.w3.org/2000/svg\" height=\"24px\"viewBox=\"0 0 24 24\"\n",
              "       width=\"24px\">\n",
              "    <path d=\"M0 0h24v24H0V0z\" fill=\"none\"/>\n",
              "    <path d=\"M18.56 5.44l.94 2.06.94-2.06 2.06-.94-2.06-.94-.94-2.06-.94 2.06-2.06.94zm-11 1L8.5 8.5l.94-2.06 2.06-.94-2.06-.94L8.5 2.5l-.94 2.06-2.06.94zm10 10l.94 2.06.94-2.06 2.06-.94-2.06-.94-.94-2.06-.94 2.06-2.06.94z\"/><path d=\"M17.41 7.96l-1.37-1.37c-.4-.4-.92-.59-1.43-.59-.52 0-1.04.2-1.43.59L10.3 9.45l-7.72 7.72c-.78.78-.78 2.05 0 2.83L4 21.41c.39.39.9.59 1.41.59.51 0 1.02-.2 1.41-.59l7.78-7.78 2.81-2.81c.8-.78.8-2.07 0-2.86zM5.41 20L4 18.59l7.72-7.72 1.47 1.35L5.41 20z\"/>\n",
              "  </svg>\n",
              "      </button>\n",
              "      \n",
              "  <style>\n",
              "    .colab-df-container {\n",
              "      display:flex;\n",
              "      flex-wrap:wrap;\n",
              "      gap: 12px;\n",
              "    }\n",
              "\n",
              "    .colab-df-convert {\n",
              "      background-color: #E8F0FE;\n",
              "      border: none;\n",
              "      border-radius: 50%;\n",
              "      cursor: pointer;\n",
              "      display: none;\n",
              "      fill: #1967D2;\n",
              "      height: 32px;\n",
              "      padding: 0 0 0 0;\n",
              "      width: 32px;\n",
              "    }\n",
              "\n",
              "    .colab-df-convert:hover {\n",
              "      background-color: #E2EBFA;\n",
              "      box-shadow: 0px 1px 2px rgba(60, 64, 67, 0.3), 0px 1px 3px 1px rgba(60, 64, 67, 0.15);\n",
              "      fill: #174EA6;\n",
              "    }\n",
              "\n",
              "    [theme=dark] .colab-df-convert {\n",
              "      background-color: #3B4455;\n",
              "      fill: #D2E3FC;\n",
              "    }\n",
              "\n",
              "    [theme=dark] .colab-df-convert:hover {\n",
              "      background-color: #434B5C;\n",
              "      box-shadow: 0px 1px 3px 1px rgba(0, 0, 0, 0.15);\n",
              "      filter: drop-shadow(0px 1px 2px rgba(0, 0, 0, 0.3));\n",
              "      fill: #FFFFFF;\n",
              "    }\n",
              "  </style>\n",
              "\n",
              "      <script>\n",
              "        const buttonEl =\n",
              "          document.querySelector('#df-7845a587-024a-40ec-8d7a-1ef6ea1ae865 button.colab-df-convert');\n",
              "        buttonEl.style.display =\n",
              "          google.colab.kernel.accessAllowed ? 'block' : 'none';\n",
              "\n",
              "        async function convertToInteractive(key) {\n",
              "          const element = document.querySelector('#df-7845a587-024a-40ec-8d7a-1ef6ea1ae865');\n",
              "          const dataTable =\n",
              "            await google.colab.kernel.invokeFunction('convertToInteractive',\n",
              "                                                     [key], {});\n",
              "          if (!dataTable) return;\n",
              "\n",
              "          const docLinkHtml = 'Like what you see? Visit the ' +\n",
              "            '<a target=\"_blank\" href=https://colab.research.google.com/notebooks/data_table.ipynb>data table notebook</a>'\n",
              "            + ' to learn more about interactive tables.';\n",
              "          element.innerHTML = '';\n",
              "          dataTable['output_type'] = 'display_data';\n",
              "          await google.colab.output.renderOutput(dataTable, element);\n",
              "          const docLink = document.createElement('div');\n",
              "          docLink.innerHTML = docLinkHtml;\n",
              "          element.appendChild(docLink);\n",
              "        }\n",
              "      </script>\n",
              "    </div>\n",
              "  </div>\n",
              "  "
            ]
          },
          "metadata": {},
          "execution_count": 50
        }
      ]
    },
    {
      "cell_type": "code",
      "source": [
        "data.shape"
      ],
      "metadata": {
        "colab": {
          "base_uri": "https://localhost:8080/"
        },
        "id": "N2OGCB6T9Ppo",
        "outputId": "c4f98844-8fd1-4506-915f-ecb449765876"
      },
      "execution_count": null,
      "outputs": [
        {
          "output_type": "execute_result",
          "data": {
            "text/plain": [
              "(892, 9)"
            ]
          },
          "metadata": {},
          "execution_count": 51
        }
      ]
    },
    {
      "cell_type": "code",
      "source": [
        "data.isnull().sum()"
      ],
      "metadata": {
        "colab": {
          "base_uri": "https://localhost:8080/"
        },
        "id": "XmwkHrQt9lKy",
        "outputId": "10c310fe-4cc2-4f30-9852-86681bf1386f"
      },
      "execution_count": null,
      "outputs": [
        {
          "output_type": "execute_result",
          "data": {
            "text/plain": [
              "breakfast        757\n",
              "cancelation      441\n",
              "distance         285\n",
              "guest_reviews    487\n",
              "location         285\n",
              "price            291\n",
              "review_number    487\n",
              "title            285\n",
              "type_room        285\n",
              "dtype: int64"
            ]
          },
          "metadata": {},
          "execution_count": 52
        }
      ]
    },
    {
      "cell_type": "code",
      "source": [
        "data.tail()"
      ],
      "metadata": {
        "colab": {
          "base_uri": "https://localhost:8080/",
          "height": 320
        },
        "id": "DPdg_xPT-Jyp",
        "outputId": "52eb4630-4824-45c0-c15a-5d9b4afb0b1c"
      },
      "execution_count": null,
      "outputs": [
        {
          "output_type": "execute_result",
          "data": {
            "text/plain": [
              "              breakfast cancelation             distance guest_reviews  \\\n",
              "887                 NaN        FREE    250 m from center           NaN   \n",
              "888                 NaN        FREE     2 km from center           NaN   \n",
              "889                 NaN        FREE  28.7 km from center           NaN   \n",
              "890  Breakfast included        Free   3.1 km from center   Exceptional   \n",
              "891                 NaN         NaN                  NaN           NaN   \n",
              "\n",
              "         location    price review_number                            title  \\\n",
              "887  Nasimi, Baku  AZN 255           NaN  Prestige Apartment VIP Panamera   \n",
              "888  Nasimi, Baku  AZN 124           NaN            City Center apartment   \n",
              "889          Baku  AZN 176           NaN                   Merdekan Villa   \n",
              "890          Baku   AZN 60     3 reviews            Apartment near Khatai   \n",
              "891           NaN      NaN           NaN                              NaN   \n",
              "\n",
              "                   type_room  \n",
              "887  Apartment with Sea View  \n",
              "888                Apartment  \n",
              "889        One-Bedroom Villa  \n",
              "890    One-Bedroom Apartment  \n",
              "891                      NaN  "
            ],
            "text/html": [
              "\n",
              "  <div id=\"df-1db26d61-c3cb-4e54-b0cc-1b94d07c11da\">\n",
              "    <div class=\"colab-df-container\">\n",
              "      <div>\n",
              "<style scoped>\n",
              "    .dataframe tbody tr th:only-of-type {\n",
              "        vertical-align: middle;\n",
              "    }\n",
              "\n",
              "    .dataframe tbody tr th {\n",
              "        vertical-align: top;\n",
              "    }\n",
              "\n",
              "    .dataframe thead th {\n",
              "        text-align: right;\n",
              "    }\n",
              "</style>\n",
              "<table border=\"1\" class=\"dataframe\">\n",
              "  <thead>\n",
              "    <tr style=\"text-align: right;\">\n",
              "      <th></th>\n",
              "      <th>breakfast</th>\n",
              "      <th>cancelation</th>\n",
              "      <th>distance</th>\n",
              "      <th>guest_reviews</th>\n",
              "      <th>location</th>\n",
              "      <th>price</th>\n",
              "      <th>review_number</th>\n",
              "      <th>title</th>\n",
              "      <th>type_room</th>\n",
              "    </tr>\n",
              "  </thead>\n",
              "  <tbody>\n",
              "    <tr>\n",
              "      <th>887</th>\n",
              "      <td>NaN</td>\n",
              "      <td>FREE</td>\n",
              "      <td>250 m from center</td>\n",
              "      <td>NaN</td>\n",
              "      <td>Nasimi, Baku</td>\n",
              "      <td>AZN 255</td>\n",
              "      <td>NaN</td>\n",
              "      <td>Prestige Apartment VIP Panamera</td>\n",
              "      <td>Apartment with Sea View</td>\n",
              "    </tr>\n",
              "    <tr>\n",
              "      <th>888</th>\n",
              "      <td>NaN</td>\n",
              "      <td>FREE</td>\n",
              "      <td>2 km from center</td>\n",
              "      <td>NaN</td>\n",
              "      <td>Nasimi, Baku</td>\n",
              "      <td>AZN 124</td>\n",
              "      <td>NaN</td>\n",
              "      <td>City Center apartment</td>\n",
              "      <td>Apartment</td>\n",
              "    </tr>\n",
              "    <tr>\n",
              "      <th>889</th>\n",
              "      <td>NaN</td>\n",
              "      <td>FREE</td>\n",
              "      <td>28.7 km from center</td>\n",
              "      <td>NaN</td>\n",
              "      <td>Baku</td>\n",
              "      <td>AZN 176</td>\n",
              "      <td>NaN</td>\n",
              "      <td>Merdekan Villa</td>\n",
              "      <td>One-Bedroom Villa</td>\n",
              "    </tr>\n",
              "    <tr>\n",
              "      <th>890</th>\n",
              "      <td>Breakfast included</td>\n",
              "      <td>Free</td>\n",
              "      <td>3.1 km from center</td>\n",
              "      <td>Exceptional</td>\n",
              "      <td>Baku</td>\n",
              "      <td>AZN 60</td>\n",
              "      <td>3 reviews</td>\n",
              "      <td>Apartment near Khatai</td>\n",
              "      <td>One-Bedroom Apartment</td>\n",
              "    </tr>\n",
              "    <tr>\n",
              "      <th>891</th>\n",
              "      <td>NaN</td>\n",
              "      <td>NaN</td>\n",
              "      <td>NaN</td>\n",
              "      <td>NaN</td>\n",
              "      <td>NaN</td>\n",
              "      <td>NaN</td>\n",
              "      <td>NaN</td>\n",
              "      <td>NaN</td>\n",
              "      <td>NaN</td>\n",
              "    </tr>\n",
              "  </tbody>\n",
              "</table>\n",
              "</div>\n",
              "      <button class=\"colab-df-convert\" onclick=\"convertToInteractive('df-1db26d61-c3cb-4e54-b0cc-1b94d07c11da')\"\n",
              "              title=\"Convert this dataframe to an interactive table.\"\n",
              "              style=\"display:none;\">\n",
              "        \n",
              "  <svg xmlns=\"http://www.w3.org/2000/svg\" height=\"24px\"viewBox=\"0 0 24 24\"\n",
              "       width=\"24px\">\n",
              "    <path d=\"M0 0h24v24H0V0z\" fill=\"none\"/>\n",
              "    <path d=\"M18.56 5.44l.94 2.06.94-2.06 2.06-.94-2.06-.94-.94-2.06-.94 2.06-2.06.94zm-11 1L8.5 8.5l.94-2.06 2.06-.94-2.06-.94L8.5 2.5l-.94 2.06-2.06.94zm10 10l.94 2.06.94-2.06 2.06-.94-2.06-.94-.94-2.06-.94 2.06-2.06.94z\"/><path d=\"M17.41 7.96l-1.37-1.37c-.4-.4-.92-.59-1.43-.59-.52 0-1.04.2-1.43.59L10.3 9.45l-7.72 7.72c-.78.78-.78 2.05 0 2.83L4 21.41c.39.39.9.59 1.41.59.51 0 1.02-.2 1.41-.59l7.78-7.78 2.81-2.81c.8-.78.8-2.07 0-2.86zM5.41 20L4 18.59l7.72-7.72 1.47 1.35L5.41 20z\"/>\n",
              "  </svg>\n",
              "      </button>\n",
              "      \n",
              "  <style>\n",
              "    .colab-df-container {\n",
              "      display:flex;\n",
              "      flex-wrap:wrap;\n",
              "      gap: 12px;\n",
              "    }\n",
              "\n",
              "    .colab-df-convert {\n",
              "      background-color: #E8F0FE;\n",
              "      border: none;\n",
              "      border-radius: 50%;\n",
              "      cursor: pointer;\n",
              "      display: none;\n",
              "      fill: #1967D2;\n",
              "      height: 32px;\n",
              "      padding: 0 0 0 0;\n",
              "      width: 32px;\n",
              "    }\n",
              "\n",
              "    .colab-df-convert:hover {\n",
              "      background-color: #E2EBFA;\n",
              "      box-shadow: 0px 1px 2px rgba(60, 64, 67, 0.3), 0px 1px 3px 1px rgba(60, 64, 67, 0.15);\n",
              "      fill: #174EA6;\n",
              "    }\n",
              "\n",
              "    [theme=dark] .colab-df-convert {\n",
              "      background-color: #3B4455;\n",
              "      fill: #D2E3FC;\n",
              "    }\n",
              "\n",
              "    [theme=dark] .colab-df-convert:hover {\n",
              "      background-color: #434B5C;\n",
              "      box-shadow: 0px 1px 3px 1px rgba(0, 0, 0, 0.15);\n",
              "      filter: drop-shadow(0px 1px 2px rgba(0, 0, 0, 0.3));\n",
              "      fill: #FFFFFF;\n",
              "    }\n",
              "  </style>\n",
              "\n",
              "      <script>\n",
              "        const buttonEl =\n",
              "          document.querySelector('#df-1db26d61-c3cb-4e54-b0cc-1b94d07c11da button.colab-df-convert');\n",
              "        buttonEl.style.display =\n",
              "          google.colab.kernel.accessAllowed ? 'block' : 'none';\n",
              "\n",
              "        async function convertToInteractive(key) {\n",
              "          const element = document.querySelector('#df-1db26d61-c3cb-4e54-b0cc-1b94d07c11da');\n",
              "          const dataTable =\n",
              "            await google.colab.kernel.invokeFunction('convertToInteractive',\n",
              "                                                     [key], {});\n",
              "          if (!dataTable) return;\n",
              "\n",
              "          const docLinkHtml = 'Like what you see? Visit the ' +\n",
              "            '<a target=\"_blank\" href=https://colab.research.google.com/notebooks/data_table.ipynb>data table notebook</a>'\n",
              "            + ' to learn more about interactive tables.';\n",
              "          element.innerHTML = '';\n",
              "          dataTable['output_type'] = 'display_data';\n",
              "          await google.colab.output.renderOutput(dataTable, element);\n",
              "          const docLink = document.createElement('div');\n",
              "          docLink.innerHTML = docLinkHtml;\n",
              "          element.appendChild(docLink);\n",
              "        }\n",
              "      </script>\n",
              "    </div>\n",
              "  </div>\n",
              "  "
            ]
          },
          "metadata": {},
          "execution_count": 53
        }
      ]
    },
    {
      "cell_type": "code",
      "source": [
        "data.dropna(axis=0, how='all', inplace=True)"
      ],
      "metadata": {
        "id": "cLXqilxe_tQg"
      },
      "execution_count": null,
      "outputs": []
    },
    {
      "cell_type": "code",
      "source": [
        "data.shape"
      ],
      "metadata": {
        "colab": {
          "base_uri": "https://localhost:8080/"
        },
        "id": "h37h7kJn0gSh",
        "outputId": "501314a4-4d9b-48f8-90e2-c92f20111b4c"
      },
      "execution_count": null,
      "outputs": [
        {
          "output_type": "execute_result",
          "data": {
            "text/plain": [
              "(607, 9)"
            ]
          },
          "metadata": {},
          "execution_count": 55
        }
      ]
    },
    {
      "cell_type": "code",
      "source": [
        "data.reset_index(drop=True, inplace=True)"
      ],
      "metadata": {
        "id": "X6SozkSH_9n6"
      },
      "execution_count": null,
      "outputs": []
    },
    {
      "cell_type": "code",
      "source": [
        "#cleaning breakfast column\n",
        "data.breakfast.nunique()"
      ],
      "metadata": {
        "colab": {
          "base_uri": "https://localhost:8080/"
        },
        "id": "Qbn0uTdpDgYQ",
        "outputId": "f08a25eb-027a-4c38-943c-e404244ce247"
      },
      "execution_count": null,
      "outputs": [
        {
          "output_type": "execute_result",
          "data": {
            "text/plain": [
              "1"
            ]
          },
          "metadata": {},
          "execution_count": 57
        }
      ]
    },
    {
      "cell_type": "code",
      "source": [
        "for x in data.index:\n",
        "  if data.loc[x, \"breakfast\"]==\"Breakfast included\":\n",
        "    data.loc[x, \"breakfast\"]=\"Yes\""
      ],
      "metadata": {
        "id": "pEOxuTwODTkY"
      },
      "execution_count": null,
      "outputs": []
    },
    {
      "cell_type": "code",
      "source": [
        "data.breakfast.fillna(\"No\", inplace=True)"
      ],
      "metadata": {
        "id": "RvR8mAsMAe9C"
      },
      "execution_count": null,
      "outputs": []
    },
    {
      "cell_type": "code",
      "source": [
        "#cleaning cancelation column\n",
        "for x in data.index:\n",
        "  if data.loc[x, \"cancelation\"]==\"FREE\" or data.loc[x, \"cancelation\"]==\"Free\":\n",
        "    data.loc[x, \"cancelation\"]=\"Yes\""
      ],
      "metadata": {
        "id": "nAGYLcKIGrMS"
      },
      "execution_count": null,
      "outputs": []
    },
    {
      "cell_type": "code",
      "source": [
        "data.cancelation.fillna(\"No\", inplace=True)"
      ],
      "metadata": {
        "id": "O3GUkKrdIAS1"
      },
      "execution_count": null,
      "outputs": []
    },
    {
      "cell_type": "code",
      "source": [
        "#cleaning distance column\n",
        "data[\"distance_from_center\"]=data.distance.str.extract('(... m)', expand=True)"
      ],
      "metadata": {
        "id": "WkR5w1yKLfHX"
      },
      "execution_count": null,
      "outputs": []
    },
    {
      "cell_type": "code",
      "source": [
        "data[\"distance_km\"]=data.distance_from_center.str.extract('(\\d+)', expand=True)"
      ],
      "metadata": {
        "id": "_rZQDctsMSuy"
      },
      "execution_count": null,
      "outputs": []
    },
    {
      "cell_type": "code",
      "source": [
        "data.distance_km=data.distance_km.astype(float)/1000"
      ],
      "metadata": {
        "id": "lqLGCqJeVJs_"
      },
      "execution_count": null,
      "outputs": []
    },
    {
      "cell_type": "code",
      "source": [
        "data[\"dist\"]=data.distance.str.extract('(... km)', expand=True)\n",
        "data[\"dist\"]=data.dist.str.extract('(\\d+.\\d+)', expand=True)\n",
        "data.dist=data.dist.astype(float)\n"
      ],
      "metadata": {
        "id": "_Lmu7ZOqaP2S"
      },
      "execution_count": null,
      "outputs": []
    },
    {
      "cell_type": "code",
      "source": [
        "data[\"distance_km\"]=np.where(data.distance_km.isnull(), data.dist, data.distance_km)"
      ],
      "metadata": {
        "id": "vJGBE2i7cSzN"
      },
      "execution_count": null,
      "outputs": []
    },
    {
      "cell_type": "code",
      "source": [
        "data.drop([\"distance_from_center\", \"distance\", \"dist\"], axis=1, inplace=True)"
      ],
      "metadata": {
        "id": "LqOXbcHfeCI2"
      },
      "execution_count": null,
      "outputs": []
    },
    {
      "cell_type": "code",
      "source": [
        "#clean guest_reviews column\n",
        "data.guest_reviews=data.guest_reviews.replace(\",\", \" \", regex=True)"
      ],
      "metadata": {
        "id": "XA6nlnCyhNc1"
      },
      "execution_count": null,
      "outputs": []
    },
    {
      "cell_type": "code",
      "source": [
        "data.guest_reviews=data.guest_reviews.replace(\"10\", \"\", regex=True).str.strip()"
      ],
      "metadata": {
        "id": "KCIVoEF288Rd"
      },
      "execution_count": null,
      "outputs": []
    },
    {
      "cell_type": "code",
      "source": [
        "data.guest_reviews=data.guest_reviews.replace(\"Review score\", \"Score under 7\", regex=True)"
      ],
      "metadata": {
        "id": "UBvmB0bx_X4X"
      },
      "execution_count": null,
      "outputs": []
    },
    {
      "cell_type": "code",
      "source": [
        "#clean price column\n",
        "data.price=data.price.replace(\"AZN\", \"\", regex=True)\n",
        "data.rename(columns={\"price\":\"price_AZN\"}, inplace=True)\n",
        "data.price_AZN=data.price_AZN.astype(float)\n"
      ],
      "metadata": {
        "id": "OG2Smbyri78N"
      },
      "execution_count": null,
      "outputs": []
    },
    {
      "cell_type": "code",
      "source": [
        "#clean review_number column\n",
        "data.review_number=data.review_number.replace(\"reviews|review|external\", \"\", regex=True)\n",
        "data.review_number=data.review_number.replace(\",\", \"\", regex=True)\n",
        "data.review_number=data.review_number.astype(float).astype('Int64')"
      ],
      "metadata": {
        "id": "fv-1tYCWlO0O"
      },
      "execution_count": null,
      "outputs": []
    },
    {
      "cell_type": "code",
      "source": [
        "#clean Location column\n",
        "data.location=data.location.replace(\",|Baku\", \"\", regex=True)"
      ],
      "metadata": {
        "id": "MYeaZcgOugoY"
      },
      "execution_count": null,
      "outputs": []
    },
    {
      "cell_type": "code",
      "source": [
        "for x in data.index:\n",
        "  if data.loc[x, \"location\"]=='':\n",
        "    data.loc[x, \"location\"]=\"Other\""
      ],
      "metadata": {
        "id": "C1mDr4uIwXGA"
      },
      "execution_count": null,
      "outputs": []
    },
    {
      "cell_type": "code",
      "source": [
        "data.location=data.location.str.strip()"
      ],
      "metadata": {
        "id": "ByUGliHIxzzk"
      },
      "execution_count": null,
      "outputs": []
    },
    {
      "cell_type": "code",
      "source": [
        "data.location.unique()"
      ],
      "metadata": {
        "colab": {
          "base_uri": "https://localhost:8080/"
        },
        "id": "7eGkGytZuyHK",
        "outputId": "4c74ad82-ac47-4e68-eb1b-2d6110ce1923"
      },
      "execution_count": null,
      "outputs": [
        {
          "output_type": "execute_result",
          "data": {
            "text/plain": [
              "array(['Sabayil', 'Other', 'Nasimi', 'Yasamal', 'White City'],\n",
              "      dtype=object)"
            ]
          },
          "metadata": {},
          "execution_count": 76
        }
      ]
    },
    {
      "cell_type": "code",
      "source": [
        "data[data.title.str.contains(\"Hotel\")]"
      ],
      "metadata": {
        "colab": {
          "base_uri": "https://localhost:8080/",
          "height": 572
        },
        "id": "ozlVwra7LyAm",
        "outputId": "604191ef-d92a-457f-a4ab-1ef00c42aaba"
      },
      "execution_count": null,
      "outputs": [
        {
          "output_type": "execute_result",
          "data": {
            "text/plain": [
              "    breakfast cancelation guest_reviews location  price_AZN  review_number  \\\n",
              "0          No         Yes     Very Good  Sabayil       50.0            742   \n",
              "1         Yes         Yes     Very Good  Sabayil       35.0            101   \n",
              "2         Yes         Yes     Very Good  Sabayil       98.0            253   \n",
              "3          No          No     Very Good  Sabayil       10.0            745   \n",
              "4          No         Yes     Very Good  Sabayil       26.0             22   \n",
              "..        ...         ...           ...      ...        ...            ...   \n",
              "509       Yes          No          Good    Other      180.0             10   \n",
              "513        No         Yes           NaN   Nasimi      190.0           <NA>   \n",
              "565        No          No          Good  Yasamal       79.0             23   \n",
              "573        No          No           NaN   Nasimi      227.0           <NA>   \n",
              "598        No         Yes           NaN  Sabayil      160.0           <NA>   \n",
              "\n",
              "                                         title  \\\n",
              "0                            Center Hotel Baku   \n",
              "1                           Madinah Hotel Baku   \n",
              "2                            Shirvanshah Hotel   \n",
              "3                         SAHIL Hostel & Hotel   \n",
              "4                      La Villa Hotel Old Baku   \n",
              "..                                         ...   \n",
              "509                        Pure Boutique Hotel   \n",
              "513               Apartment VIP Sapphire Hotel   \n",
              "565                            Mark Hotel Baku   \n",
              "573  Port Baku Residance Hotel Apartment A1702   \n",
              "598         Luxury Apartment Near Hilton Hotel   \n",
              "\n",
              "                              type_room  distance_km  \n",
              "0                   Economy Double Room         0.15  \n",
              "1                           Single Room         2.30  \n",
              "2                    Budget Single Room         0.70  \n",
              "3    Bed in 10-Bed Mixed Dormitory Room         0.60  \n",
              "4           Economy Double or Twin Room         0.60  \n",
              "..                                  ...          ...  \n",
              "509                    Budget Twin Room         4.80  \n",
              "513             Three-Bedroom Apartment         0.40  \n",
              "565      Queen Room with Two Queen Beds         2.30  \n",
              "573             Apartment with Sea View         2.10  \n",
              "598             Apartment with Sea View         0.60  \n",
              "\n",
              "[211 rows x 9 columns]"
            ],
            "text/html": [
              "\n",
              "  <div id=\"df-0dfea248-af15-4711-94ad-14d191a0ba22\">\n",
              "    <div class=\"colab-df-container\">\n",
              "      <div>\n",
              "<style scoped>\n",
              "    .dataframe tbody tr th:only-of-type {\n",
              "        vertical-align: middle;\n",
              "    }\n",
              "\n",
              "    .dataframe tbody tr th {\n",
              "        vertical-align: top;\n",
              "    }\n",
              "\n",
              "    .dataframe thead th {\n",
              "        text-align: right;\n",
              "    }\n",
              "</style>\n",
              "<table border=\"1\" class=\"dataframe\">\n",
              "  <thead>\n",
              "    <tr style=\"text-align: right;\">\n",
              "      <th></th>\n",
              "      <th>breakfast</th>\n",
              "      <th>cancelation</th>\n",
              "      <th>guest_reviews</th>\n",
              "      <th>location</th>\n",
              "      <th>price_AZN</th>\n",
              "      <th>review_number</th>\n",
              "      <th>title</th>\n",
              "      <th>type_room</th>\n",
              "      <th>distance_km</th>\n",
              "    </tr>\n",
              "  </thead>\n",
              "  <tbody>\n",
              "    <tr>\n",
              "      <th>0</th>\n",
              "      <td>No</td>\n",
              "      <td>Yes</td>\n",
              "      <td>Very Good</td>\n",
              "      <td>Sabayil</td>\n",
              "      <td>50.0</td>\n",
              "      <td>742</td>\n",
              "      <td>Center Hotel Baku</td>\n",
              "      <td>Economy Double Room</td>\n",
              "      <td>0.15</td>\n",
              "    </tr>\n",
              "    <tr>\n",
              "      <th>1</th>\n",
              "      <td>Yes</td>\n",
              "      <td>Yes</td>\n",
              "      <td>Very Good</td>\n",
              "      <td>Sabayil</td>\n",
              "      <td>35.0</td>\n",
              "      <td>101</td>\n",
              "      <td>Madinah Hotel Baku</td>\n",
              "      <td>Single Room</td>\n",
              "      <td>2.30</td>\n",
              "    </tr>\n",
              "    <tr>\n",
              "      <th>2</th>\n",
              "      <td>Yes</td>\n",
              "      <td>Yes</td>\n",
              "      <td>Very Good</td>\n",
              "      <td>Sabayil</td>\n",
              "      <td>98.0</td>\n",
              "      <td>253</td>\n",
              "      <td>Shirvanshah Hotel</td>\n",
              "      <td>Budget Single Room</td>\n",
              "      <td>0.70</td>\n",
              "    </tr>\n",
              "    <tr>\n",
              "      <th>3</th>\n",
              "      <td>No</td>\n",
              "      <td>No</td>\n",
              "      <td>Very Good</td>\n",
              "      <td>Sabayil</td>\n",
              "      <td>10.0</td>\n",
              "      <td>745</td>\n",
              "      <td>SAHIL Hostel &amp; Hotel</td>\n",
              "      <td>Bed in 10-Bed Mixed Dormitory Room</td>\n",
              "      <td>0.60</td>\n",
              "    </tr>\n",
              "    <tr>\n",
              "      <th>4</th>\n",
              "      <td>No</td>\n",
              "      <td>Yes</td>\n",
              "      <td>Very Good</td>\n",
              "      <td>Sabayil</td>\n",
              "      <td>26.0</td>\n",
              "      <td>22</td>\n",
              "      <td>La Villa Hotel Old Baku</td>\n",
              "      <td>Economy Double or Twin Room</td>\n",
              "      <td>0.60</td>\n",
              "    </tr>\n",
              "    <tr>\n",
              "      <th>...</th>\n",
              "      <td>...</td>\n",
              "      <td>...</td>\n",
              "      <td>...</td>\n",
              "      <td>...</td>\n",
              "      <td>...</td>\n",
              "      <td>...</td>\n",
              "      <td>...</td>\n",
              "      <td>...</td>\n",
              "      <td>...</td>\n",
              "    </tr>\n",
              "    <tr>\n",
              "      <th>509</th>\n",
              "      <td>Yes</td>\n",
              "      <td>No</td>\n",
              "      <td>Good</td>\n",
              "      <td>Other</td>\n",
              "      <td>180.0</td>\n",
              "      <td>10</td>\n",
              "      <td>Pure Boutique Hotel</td>\n",
              "      <td>Budget Twin Room</td>\n",
              "      <td>4.80</td>\n",
              "    </tr>\n",
              "    <tr>\n",
              "      <th>513</th>\n",
              "      <td>No</td>\n",
              "      <td>Yes</td>\n",
              "      <td>NaN</td>\n",
              "      <td>Nasimi</td>\n",
              "      <td>190.0</td>\n",
              "      <td>&lt;NA&gt;</td>\n",
              "      <td>Apartment VIP Sapphire Hotel</td>\n",
              "      <td>Three-Bedroom Apartment</td>\n",
              "      <td>0.40</td>\n",
              "    </tr>\n",
              "    <tr>\n",
              "      <th>565</th>\n",
              "      <td>No</td>\n",
              "      <td>No</td>\n",
              "      <td>Good</td>\n",
              "      <td>Yasamal</td>\n",
              "      <td>79.0</td>\n",
              "      <td>23</td>\n",
              "      <td>Mark Hotel Baku</td>\n",
              "      <td>Queen Room with Two Queen Beds</td>\n",
              "      <td>2.30</td>\n",
              "    </tr>\n",
              "    <tr>\n",
              "      <th>573</th>\n",
              "      <td>No</td>\n",
              "      <td>No</td>\n",
              "      <td>NaN</td>\n",
              "      <td>Nasimi</td>\n",
              "      <td>227.0</td>\n",
              "      <td>&lt;NA&gt;</td>\n",
              "      <td>Port Baku Residance Hotel Apartment A1702</td>\n",
              "      <td>Apartment with Sea View</td>\n",
              "      <td>2.10</td>\n",
              "    </tr>\n",
              "    <tr>\n",
              "      <th>598</th>\n",
              "      <td>No</td>\n",
              "      <td>Yes</td>\n",
              "      <td>NaN</td>\n",
              "      <td>Sabayil</td>\n",
              "      <td>160.0</td>\n",
              "      <td>&lt;NA&gt;</td>\n",
              "      <td>Luxury Apartment Near Hilton Hotel</td>\n",
              "      <td>Apartment with Sea View</td>\n",
              "      <td>0.60</td>\n",
              "    </tr>\n",
              "  </tbody>\n",
              "</table>\n",
              "<p>211 rows × 9 columns</p>\n",
              "</div>\n",
              "      <button class=\"colab-df-convert\" onclick=\"convertToInteractive('df-0dfea248-af15-4711-94ad-14d191a0ba22')\"\n",
              "              title=\"Convert this dataframe to an interactive table.\"\n",
              "              style=\"display:none;\">\n",
              "        \n",
              "  <svg xmlns=\"http://www.w3.org/2000/svg\" height=\"24px\"viewBox=\"0 0 24 24\"\n",
              "       width=\"24px\">\n",
              "    <path d=\"M0 0h24v24H0V0z\" fill=\"none\"/>\n",
              "    <path d=\"M18.56 5.44l.94 2.06.94-2.06 2.06-.94-2.06-.94-.94-2.06-.94 2.06-2.06.94zm-11 1L8.5 8.5l.94-2.06 2.06-.94-2.06-.94L8.5 2.5l-.94 2.06-2.06.94zm10 10l.94 2.06.94-2.06 2.06-.94-2.06-.94-.94-2.06-.94 2.06-2.06.94z\"/><path d=\"M17.41 7.96l-1.37-1.37c-.4-.4-.92-.59-1.43-.59-.52 0-1.04.2-1.43.59L10.3 9.45l-7.72 7.72c-.78.78-.78 2.05 0 2.83L4 21.41c.39.39.9.59 1.41.59.51 0 1.02-.2 1.41-.59l7.78-7.78 2.81-2.81c.8-.78.8-2.07 0-2.86zM5.41 20L4 18.59l7.72-7.72 1.47 1.35L5.41 20z\"/>\n",
              "  </svg>\n",
              "      </button>\n",
              "      \n",
              "  <style>\n",
              "    .colab-df-container {\n",
              "      display:flex;\n",
              "      flex-wrap:wrap;\n",
              "      gap: 12px;\n",
              "    }\n",
              "\n",
              "    .colab-df-convert {\n",
              "      background-color: #E8F0FE;\n",
              "      border: none;\n",
              "      border-radius: 50%;\n",
              "      cursor: pointer;\n",
              "      display: none;\n",
              "      fill: #1967D2;\n",
              "      height: 32px;\n",
              "      padding: 0 0 0 0;\n",
              "      width: 32px;\n",
              "    }\n",
              "\n",
              "    .colab-df-convert:hover {\n",
              "      background-color: #E2EBFA;\n",
              "      box-shadow: 0px 1px 2px rgba(60, 64, 67, 0.3), 0px 1px 3px 1px rgba(60, 64, 67, 0.15);\n",
              "      fill: #174EA6;\n",
              "    }\n",
              "\n",
              "    [theme=dark] .colab-df-convert {\n",
              "      background-color: #3B4455;\n",
              "      fill: #D2E3FC;\n",
              "    }\n",
              "\n",
              "    [theme=dark] .colab-df-convert:hover {\n",
              "      background-color: #434B5C;\n",
              "      box-shadow: 0px 1px 3px 1px rgba(0, 0, 0, 0.15);\n",
              "      filter: drop-shadow(0px 1px 2px rgba(0, 0, 0, 0.3));\n",
              "      fill: #FFFFFF;\n",
              "    }\n",
              "  </style>\n",
              "\n",
              "      <script>\n",
              "        const buttonEl =\n",
              "          document.querySelector('#df-0dfea248-af15-4711-94ad-14d191a0ba22 button.colab-df-convert');\n",
              "        buttonEl.style.display =\n",
              "          google.colab.kernel.accessAllowed ? 'block' : 'none';\n",
              "\n",
              "        async function convertToInteractive(key) {\n",
              "          const element = document.querySelector('#df-0dfea248-af15-4711-94ad-14d191a0ba22');\n",
              "          const dataTable =\n",
              "            await google.colab.kernel.invokeFunction('convertToInteractive',\n",
              "                                                     [key], {});\n",
              "          if (!dataTable) return;\n",
              "\n",
              "          const docLinkHtml = 'Like what you see? Visit the ' +\n",
              "            '<a target=\"_blank\" href=https://colab.research.google.com/notebooks/data_table.ipynb>data table notebook</a>'\n",
              "            + ' to learn more about interactive tables.';\n",
              "          element.innerHTML = '';\n",
              "          dataTable['output_type'] = 'display_data';\n",
              "          await google.colab.output.renderOutput(dataTable, element);\n",
              "          const docLink = document.createElement('div');\n",
              "          docLink.innerHTML = docLinkHtml;\n",
              "          element.appendChild(docLink);\n",
              "        }\n",
              "      </script>\n",
              "    </div>\n",
              "  </div>\n",
              "  "
            ]
          },
          "metadata": {},
          "execution_count": 77
        }
      ]
    },
    {
      "cell_type": "code",
      "source": [
        "data[\"latitude\"]=np.nan"
      ],
      "metadata": {
        "id": "2LcQEoBp9C6H"
      },
      "execution_count": null,
      "outputs": []
    },
    {
      "cell_type": "code",
      "source": [
        "data[\"longitude\"]=np.nan"
      ],
      "metadata": {
        "id": "p4RWMC4aYov8"
      },
      "execution_count": null,
      "outputs": []
    },
    {
      "cell_type": "code",
      "source": [
        "for x in data.index:\n",
        "  if data.loc[x, \"location\"]==\"Sabayil\":\n",
        "    data.loc[x, \"latitude\"]=40.34018472008257\n",
        "  if data.loc[x, \"location\"]==\"Nasimi\":\n",
        "    data.loc[x, \"latitude\"]=40.39482299502607\n",
        "  if data.loc[x, \"location\"]==\"Yasamal\":\n",
        "    data.loc[x, \"latitude\"]=40.37910692339686 \n",
        "  if data.loc[x, \"location\"]==\"White City\":\n",
        "    data.loc[x, \"latitude\"]=40.38191540820948    "
      ],
      "metadata": {
        "id": "E1ArGdyXY8mo"
      },
      "execution_count": null,
      "outputs": []
    },
    {
      "cell_type": "code",
      "source": [
        "for x in data.index:\n",
        "  if data.loc[x, \"location\"]==\"Sabayil\":\n",
        "    data.loc[x, \"longitude\"]=49.81870865057885\n",
        "  if data.loc[x, \"location\"]==\"Nasimi\":\n",
        "    data.loc[x, \"longitude\"]=49.82684828968684\n",
        "  if data.loc[x, \"location\"]==\"Yasamal\":\n",
        "    data.loc[x, \"longitude\"]=49.809651649057464\n",
        "  if data.loc[x, \"location\"]==\"White City\":\n",
        "    data.loc[x, \"longitude\"]=49.88996746617085   "
      ],
      "metadata": {
        "id": "V3by2lE0dqKL"
      },
      "execution_count": null,
      "outputs": []
    },
    {
      "cell_type": "code",
      "source": [
        "data"
      ],
      "metadata": {
        "colab": {
          "base_uri": "https://localhost:8080/",
          "height": 815
        },
        "id": "565F94ClAtet",
        "outputId": "a51cd3dd-1e7c-4a9e-ee4a-80a56603a8a0"
      },
      "execution_count": null,
      "outputs": [
        {
          "output_type": "execute_result",
          "data": {
            "text/plain": [
              "    breakfast cancelation guest_reviews location  price_AZN  review_number  \\\n",
              "0          No         Yes     Very Good  Sabayil       50.0            742   \n",
              "1         Yes         Yes     Very Good  Sabayil       35.0            101   \n",
              "2         Yes         Yes     Very Good  Sabayil       98.0            253   \n",
              "3          No          No     Very Good  Sabayil       10.0            745   \n",
              "4          No         Yes     Very Good  Sabayil       26.0             22   \n",
              "..        ...         ...           ...      ...        ...            ...   \n",
              "602        No         Yes     Very Good   Nasimi      350.0              3   \n",
              "603        No         Yes           NaN   Nasimi      255.0           <NA>   \n",
              "604        No         Yes           NaN   Nasimi      124.0           <NA>   \n",
              "605        No         Yes           NaN    Other      176.0           <NA>   \n",
              "606       Yes         Yes   Exceptional    Other       60.0              3   \n",
              "\n",
              "                                   title                           type_room  \\\n",
              "0                      Center Hotel Baku                 Economy Double Room   \n",
              "1                     Madinah Hotel Baku                         Single Room   \n",
              "2                      Shirvanshah Hotel                  Budget Single Room   \n",
              "3                   SAHIL Hostel & Hotel  Bed in 10-Bed Mixed Dormitory Room   \n",
              "4                La Villa Hotel Old Baku         Economy Double or Twin Room   \n",
              "..                                   ...                                 ...   \n",
              "602  Port Baku Residence Archi Apartment             Three-Bedroom Apartment   \n",
              "603      Prestige Apartment VIP Panamera             Apartment with Sea View   \n",
              "604                City Center apartment                           Apartment   \n",
              "605                       Merdekan Villa                   One-Bedroom Villa   \n",
              "606                Apartment near Khatai               One-Bedroom Apartment   \n",
              "\n",
              "     distance_km   latitude  longitude  \n",
              "0           0.15  40.340185  49.818709  \n",
              "1           2.30  40.340185  49.818709  \n",
              "2           0.70  40.340185  49.818709  \n",
              "3           0.60  40.340185  49.818709  \n",
              "4           0.60  40.340185  49.818709  \n",
              "..           ...        ...        ...  \n",
              "602          NaN  40.394823  49.826848  \n",
              "603         0.25  40.394823  49.826848  \n",
              "604          NaN  40.394823  49.826848  \n",
              "605         8.70        NaN        NaN  \n",
              "606         3.10        NaN        NaN  \n",
              "\n",
              "[607 rows x 11 columns]"
            ],
            "text/html": [
              "\n",
              "  <div id=\"df-ec487ef3-3970-4c5c-82d7-4533cf74ca7b\">\n",
              "    <div class=\"colab-df-container\">\n",
              "      <div>\n",
              "<style scoped>\n",
              "    .dataframe tbody tr th:only-of-type {\n",
              "        vertical-align: middle;\n",
              "    }\n",
              "\n",
              "    .dataframe tbody tr th {\n",
              "        vertical-align: top;\n",
              "    }\n",
              "\n",
              "    .dataframe thead th {\n",
              "        text-align: right;\n",
              "    }\n",
              "</style>\n",
              "<table border=\"1\" class=\"dataframe\">\n",
              "  <thead>\n",
              "    <tr style=\"text-align: right;\">\n",
              "      <th></th>\n",
              "      <th>breakfast</th>\n",
              "      <th>cancelation</th>\n",
              "      <th>guest_reviews</th>\n",
              "      <th>location</th>\n",
              "      <th>price_AZN</th>\n",
              "      <th>review_number</th>\n",
              "      <th>title</th>\n",
              "      <th>type_room</th>\n",
              "      <th>distance_km</th>\n",
              "      <th>latitude</th>\n",
              "      <th>longitude</th>\n",
              "    </tr>\n",
              "  </thead>\n",
              "  <tbody>\n",
              "    <tr>\n",
              "      <th>0</th>\n",
              "      <td>No</td>\n",
              "      <td>Yes</td>\n",
              "      <td>Very Good</td>\n",
              "      <td>Sabayil</td>\n",
              "      <td>50.0</td>\n",
              "      <td>742</td>\n",
              "      <td>Center Hotel Baku</td>\n",
              "      <td>Economy Double Room</td>\n",
              "      <td>0.15</td>\n",
              "      <td>40.340185</td>\n",
              "      <td>49.818709</td>\n",
              "    </tr>\n",
              "    <tr>\n",
              "      <th>1</th>\n",
              "      <td>Yes</td>\n",
              "      <td>Yes</td>\n",
              "      <td>Very Good</td>\n",
              "      <td>Sabayil</td>\n",
              "      <td>35.0</td>\n",
              "      <td>101</td>\n",
              "      <td>Madinah Hotel Baku</td>\n",
              "      <td>Single Room</td>\n",
              "      <td>2.30</td>\n",
              "      <td>40.340185</td>\n",
              "      <td>49.818709</td>\n",
              "    </tr>\n",
              "    <tr>\n",
              "      <th>2</th>\n",
              "      <td>Yes</td>\n",
              "      <td>Yes</td>\n",
              "      <td>Very Good</td>\n",
              "      <td>Sabayil</td>\n",
              "      <td>98.0</td>\n",
              "      <td>253</td>\n",
              "      <td>Shirvanshah Hotel</td>\n",
              "      <td>Budget Single Room</td>\n",
              "      <td>0.70</td>\n",
              "      <td>40.340185</td>\n",
              "      <td>49.818709</td>\n",
              "    </tr>\n",
              "    <tr>\n",
              "      <th>3</th>\n",
              "      <td>No</td>\n",
              "      <td>No</td>\n",
              "      <td>Very Good</td>\n",
              "      <td>Sabayil</td>\n",
              "      <td>10.0</td>\n",
              "      <td>745</td>\n",
              "      <td>SAHIL Hostel &amp; Hotel</td>\n",
              "      <td>Bed in 10-Bed Mixed Dormitory Room</td>\n",
              "      <td>0.60</td>\n",
              "      <td>40.340185</td>\n",
              "      <td>49.818709</td>\n",
              "    </tr>\n",
              "    <tr>\n",
              "      <th>4</th>\n",
              "      <td>No</td>\n",
              "      <td>Yes</td>\n",
              "      <td>Very Good</td>\n",
              "      <td>Sabayil</td>\n",
              "      <td>26.0</td>\n",
              "      <td>22</td>\n",
              "      <td>La Villa Hotel Old Baku</td>\n",
              "      <td>Economy Double or Twin Room</td>\n",
              "      <td>0.60</td>\n",
              "      <td>40.340185</td>\n",
              "      <td>49.818709</td>\n",
              "    </tr>\n",
              "    <tr>\n",
              "      <th>...</th>\n",
              "      <td>...</td>\n",
              "      <td>...</td>\n",
              "      <td>...</td>\n",
              "      <td>...</td>\n",
              "      <td>...</td>\n",
              "      <td>...</td>\n",
              "      <td>...</td>\n",
              "      <td>...</td>\n",
              "      <td>...</td>\n",
              "      <td>...</td>\n",
              "      <td>...</td>\n",
              "    </tr>\n",
              "    <tr>\n",
              "      <th>602</th>\n",
              "      <td>No</td>\n",
              "      <td>Yes</td>\n",
              "      <td>Very Good</td>\n",
              "      <td>Nasimi</td>\n",
              "      <td>350.0</td>\n",
              "      <td>3</td>\n",
              "      <td>Port Baku Residence Archi Apartment</td>\n",
              "      <td>Three-Bedroom Apartment</td>\n",
              "      <td>NaN</td>\n",
              "      <td>40.394823</td>\n",
              "      <td>49.826848</td>\n",
              "    </tr>\n",
              "    <tr>\n",
              "      <th>603</th>\n",
              "      <td>No</td>\n",
              "      <td>Yes</td>\n",
              "      <td>NaN</td>\n",
              "      <td>Nasimi</td>\n",
              "      <td>255.0</td>\n",
              "      <td>&lt;NA&gt;</td>\n",
              "      <td>Prestige Apartment VIP Panamera</td>\n",
              "      <td>Apartment with Sea View</td>\n",
              "      <td>0.25</td>\n",
              "      <td>40.394823</td>\n",
              "      <td>49.826848</td>\n",
              "    </tr>\n",
              "    <tr>\n",
              "      <th>604</th>\n",
              "      <td>No</td>\n",
              "      <td>Yes</td>\n",
              "      <td>NaN</td>\n",
              "      <td>Nasimi</td>\n",
              "      <td>124.0</td>\n",
              "      <td>&lt;NA&gt;</td>\n",
              "      <td>City Center apartment</td>\n",
              "      <td>Apartment</td>\n",
              "      <td>NaN</td>\n",
              "      <td>40.394823</td>\n",
              "      <td>49.826848</td>\n",
              "    </tr>\n",
              "    <tr>\n",
              "      <th>605</th>\n",
              "      <td>No</td>\n",
              "      <td>Yes</td>\n",
              "      <td>NaN</td>\n",
              "      <td>Other</td>\n",
              "      <td>176.0</td>\n",
              "      <td>&lt;NA&gt;</td>\n",
              "      <td>Merdekan Villa</td>\n",
              "      <td>One-Bedroom Villa</td>\n",
              "      <td>8.70</td>\n",
              "      <td>NaN</td>\n",
              "      <td>NaN</td>\n",
              "    </tr>\n",
              "    <tr>\n",
              "      <th>606</th>\n",
              "      <td>Yes</td>\n",
              "      <td>Yes</td>\n",
              "      <td>Exceptional</td>\n",
              "      <td>Other</td>\n",
              "      <td>60.0</td>\n",
              "      <td>3</td>\n",
              "      <td>Apartment near Khatai</td>\n",
              "      <td>One-Bedroom Apartment</td>\n",
              "      <td>3.10</td>\n",
              "      <td>NaN</td>\n",
              "      <td>NaN</td>\n",
              "    </tr>\n",
              "  </tbody>\n",
              "</table>\n",
              "<p>607 rows × 11 columns</p>\n",
              "</div>\n",
              "      <button class=\"colab-df-convert\" onclick=\"convertToInteractive('df-ec487ef3-3970-4c5c-82d7-4533cf74ca7b')\"\n",
              "              title=\"Convert this dataframe to an interactive table.\"\n",
              "              style=\"display:none;\">\n",
              "        \n",
              "  <svg xmlns=\"http://www.w3.org/2000/svg\" height=\"24px\"viewBox=\"0 0 24 24\"\n",
              "       width=\"24px\">\n",
              "    <path d=\"M0 0h24v24H0V0z\" fill=\"none\"/>\n",
              "    <path d=\"M18.56 5.44l.94 2.06.94-2.06 2.06-.94-2.06-.94-.94-2.06-.94 2.06-2.06.94zm-11 1L8.5 8.5l.94-2.06 2.06-.94-2.06-.94L8.5 2.5l-.94 2.06-2.06.94zm10 10l.94 2.06.94-2.06 2.06-.94-2.06-.94-.94-2.06-.94 2.06-2.06.94z\"/><path d=\"M17.41 7.96l-1.37-1.37c-.4-.4-.92-.59-1.43-.59-.52 0-1.04.2-1.43.59L10.3 9.45l-7.72 7.72c-.78.78-.78 2.05 0 2.83L4 21.41c.39.39.9.59 1.41.59.51 0 1.02-.2 1.41-.59l7.78-7.78 2.81-2.81c.8-.78.8-2.07 0-2.86zM5.41 20L4 18.59l7.72-7.72 1.47 1.35L5.41 20z\"/>\n",
              "  </svg>\n",
              "      </button>\n",
              "      \n",
              "  <style>\n",
              "    .colab-df-container {\n",
              "      display:flex;\n",
              "      flex-wrap:wrap;\n",
              "      gap: 12px;\n",
              "    }\n",
              "\n",
              "    .colab-df-convert {\n",
              "      background-color: #E8F0FE;\n",
              "      border: none;\n",
              "      border-radius: 50%;\n",
              "      cursor: pointer;\n",
              "      display: none;\n",
              "      fill: #1967D2;\n",
              "      height: 32px;\n",
              "      padding: 0 0 0 0;\n",
              "      width: 32px;\n",
              "    }\n",
              "\n",
              "    .colab-df-convert:hover {\n",
              "      background-color: #E2EBFA;\n",
              "      box-shadow: 0px 1px 2px rgba(60, 64, 67, 0.3), 0px 1px 3px 1px rgba(60, 64, 67, 0.15);\n",
              "      fill: #174EA6;\n",
              "    }\n",
              "\n",
              "    [theme=dark] .colab-df-convert {\n",
              "      background-color: #3B4455;\n",
              "      fill: #D2E3FC;\n",
              "    }\n",
              "\n",
              "    [theme=dark] .colab-df-convert:hover {\n",
              "      background-color: #434B5C;\n",
              "      box-shadow: 0px 1px 3px 1px rgba(0, 0, 0, 0.15);\n",
              "      filter: drop-shadow(0px 1px 2px rgba(0, 0, 0, 0.3));\n",
              "      fill: #FFFFFF;\n",
              "    }\n",
              "  </style>\n",
              "\n",
              "      <script>\n",
              "        const buttonEl =\n",
              "          document.querySelector('#df-ec487ef3-3970-4c5c-82d7-4533cf74ca7b button.colab-df-convert');\n",
              "        buttonEl.style.display =\n",
              "          google.colab.kernel.accessAllowed ? 'block' : 'none';\n",
              "\n",
              "        async function convertToInteractive(key) {\n",
              "          const element = document.querySelector('#df-ec487ef3-3970-4c5c-82d7-4533cf74ca7b');\n",
              "          const dataTable =\n",
              "            await google.colab.kernel.invokeFunction('convertToInteractive',\n",
              "                                                     [key], {});\n",
              "          if (!dataTable) return;\n",
              "\n",
              "          const docLinkHtml = 'Like what you see? Visit the ' +\n",
              "            '<a target=\"_blank\" href=https://colab.research.google.com/notebooks/data_table.ipynb>data table notebook</a>'\n",
              "            + ' to learn more about interactive tables.';\n",
              "          element.innerHTML = '';\n",
              "          dataTable['output_type'] = 'display_data';\n",
              "          await google.colab.output.renderOutput(dataTable, element);\n",
              "          const docLink = document.createElement('div');\n",
              "          docLink.innerHTML = docLinkHtml;\n",
              "          element.appendChild(docLink);\n",
              "        }\n",
              "      </script>\n",
              "    </div>\n",
              "  </div>\n",
              "  "
            ]
          },
          "metadata": {},
          "execution_count": 86
        }
      ]
    },
    {
      "cell_type": "code",
      "source": [
        "data.to_csv(\"booking_cleaned.csv\")"
      ],
      "metadata": {
        "id": "OauFj3WP9ESi"
      },
      "execution_count": null,
      "outputs": []
    }
  ]
}